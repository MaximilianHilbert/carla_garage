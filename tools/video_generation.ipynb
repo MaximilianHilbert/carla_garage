{
 "cells": [
  {
   "cell_type": "code",
   "execution_count": 7,
   "metadata": {},
   "outputs": [
    {
     "name": "stderr",
     "output_type": "stream",
     "text": [
      "100%|██████████| 314/314 [00:03<00:00, 86.15it/s]\n"
     ]
    }
   ],
   "source": [
    "from PIL import Image\n",
    "import os\n",
    "import cv2\n",
    "from tqdm import tqdm\n",
    "import numpy as np\n",
    "\n",
    "bcso_path = \"/home/maximilian/datasets/presentation_sample\"\n",
    "\n",
    "def sort_key(s):\n",
    "    s = s.strip(\".jpg\")\n",
    "    return int(s)\n",
    "\n",
    "seq_len = 3\n",
    "images = sorted(os.listdir(bcso_path), key=sort_key)\n",
    "\n",
    "fps = 5\n",
    "video_writer = None\n",
    "\n",
    "for i in tqdm(range(seq_len, len(images))):\n",
    "    # Load the current image and expand dims to keep it consistent with previous images\n",
    "    current_image = np.expand_dims(np.array(Image.open(os.path.join(bcso_path, images[i]))), axis=0)\n",
    "    \n",
    "    # Load the previous images (seq_len - 1 images) and ensure they are NumPy arrays\n",
    "    prev_images = np.array([np.array(Image.open(os.path.join(bcso_path, images[i-j]))) for j in range(1, seq_len)])\n",
    "    \n",
    "    # Concatenate the images along the width axis (axis=1), so they are side by side\n",
    "    image_sequence = np.concatenate([current_image] + [np.expand_dims(img, axis=0) for img in prev_images], axis=1)\n",
    "    \n",
    "    # Ensure the concatenation happens along the correct axis (width-wise stacking)\n",
    "    image_sequence = np.squeeze(image_sequence)  # Remove the extra dimension added by expand_dims\n",
    "\n",
    "    # Initialize the video writer once, using the width and height from the first image sequence\n",
    "    if video_writer is None:\n",
    "        h, w, _ = image_sequence.shape\n",
    "        video_writer = cv2.VideoWriter(\n",
    "            \"/home/maximilian/Master/presentation_video.avi\",\n",
    "            cv2.VideoWriter_fourcc(*'XVID'),  # FourCC codec\n",
    "            fps,\n",
    "            (w, h)\n",
    "        )\n",
    "    \n",
    "    # Write the concatenated image sequence to the video\n",
    "    video_writer.write(cv2.cvtColor(image_sequence, cv2.COLOR_RGB2BGR))\n",
    "\n",
    "# Release the video writer when done\n",
    "video_writer.release()"
   ]
  },
  {
   "cell_type": "code",
   "execution_count": null,
   "metadata": {},
   "outputs": [],
   "source": []
  }
 ],
 "metadata": {
  "kernelspec": {
   "display_name": "garage",
   "language": "python",
   "name": "python3"
  },
  "language_info": {
   "codemirror_mode": {
    "name": "ipython",
    "version": 3
   },
   "file_extension": ".py",
   "mimetype": "text/x-python",
   "name": "python",
   "nbconvert_exporter": "python",
   "pygments_lexer": "ipython3",
   "version": "3.7.12"
  }
 },
 "nbformat": 4,
 "nbformat_minor": 2
}
