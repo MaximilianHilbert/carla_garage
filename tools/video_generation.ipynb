{
 "cells": [
  {
   "cell_type": "code",
   "execution_count": 2,
   "metadata": {},
   "outputs": [
    {
     "name": "stderr",
     "output_type": "stream",
     "text": [
      "100%|██████████| 255/255 [00:56<00:00,  4.52it/s]\n"
     ]
    }
   ],
   "source": [
    "from PIL import Image\n",
    "import os\n",
    "from PIL import Image, ImageDraw, ImageFont\n",
    "import cv2\n",
    "from tqdm import tqdm\n",
    "import numpy as np\n",
    "import matplotlib.pyplot as plt\n",
    "bcso_path=\"/home/maximilian/Master/carla_garage/vis/bcso\"\n",
    "bcoh_path=\"/home/maximilian/Master/carla_garage/vis/bcoh\"\n",
    "arp_path=\"/home/maximilian/Master/carla_garage/vis/arp\"\n",
    "def sort_key(s):\n",
    "    s=s.strip(\".png\")\n",
    "    return int(s)\n",
    "bcso_images=sorted(os.listdir(bcso_path), key=sort_key)\n",
    "bcoh_images=sorted(os.listdir(bcoh_path), key=sort_key)\n",
    "arp_images=sorted(os.listdir(arp_path), key=sort_key)\n",
    "for i in tqdm(range(1,len(bcso_images))):\n",
    "    bcso_image=np.array(Image.open(os.path.join(bcso_path,bcso_images[i])))\n",
    "    bcoh_image=np.array(Image.open(os.path.join(bcoh_path,bcoh_images[i])))\n",
    "    arp_image=np.array(Image.open(os.path.join(arp_path,arp_images[i])))\n",
    "\n",
    "    image=np.hstack([bcso_image, bcoh_image, arp_image])\n",
    "    image=Image.fromarray(image)\n",
    "\n",
    "    image=np.array(image.resize((1920,1080)))\n",
    "    if i==1:\n",
    "        fps = 5\n",
    "        h,w,_=image.shape\n",
    "        video_writer = cv2.VideoWriter(\"/home/maximilian/Master/carla_garage/comparison_one_curve_30.avi\", 0,fps, (w, h))\n",
    "    video_writer.write(cv2.cvtColor(image, cv2.COLOR_RGB2BGR))\n",
    "video_writer.release()"
   ]
  }
 ],
 "metadata": {
  "kernelspec": {
   "display_name": "garage",
   "language": "python",
   "name": "python3"
  },
  "language_info": {
   "codemirror_mode": {
    "name": "ipython",
    "version": 3
   },
   "file_extension": ".py",
   "mimetype": "text/x-python",
   "name": "python",
   "nbconvert_exporter": "python",
   "pygments_lexer": "ipython3",
   "version": "3.7.12"
  }
 },
 "nbformat": 4,
 "nbformat_minor": 2
}
