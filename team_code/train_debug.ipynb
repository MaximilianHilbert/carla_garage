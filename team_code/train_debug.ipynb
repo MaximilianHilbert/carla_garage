{
 "cells": [
  {
   "cell_type": "code",
   "execution_count": 1,
   "metadata": {},
   "outputs": [],
   "source": [
    "import sys\n",
    "import os\n",
    "\n",
    "# Set environment variables\n",
    "os.environ['CARLA_ROOT'] = '/home/maximilian/Master/carla_garage/carla'\n",
    "os.environ['WORK_DIR'] = '/home/maximilian/Master/carla_garage'\n",
    "\n",
    "# Update sys.path\n",
    "sys.path.append(os.path.join(os.environ['CARLA_ROOT'], 'PythonAPI'))\n",
    "sys.path.append(os.path.join(os.environ['CARLA_ROOT'], 'PythonAPI', 'carla'))\n",
    "sys.path.append(os.path.join(os.environ['CARLA_ROOT'], 'PythonAPI', 'carla', 'dist', 'carla-0.9.10-py3.7-linux-x86_64.egg'))\n",
    "\n",
    "os.environ['SCENARIO_RUNNER_ROOT'] = os.path.join(os.environ['WORK_DIR'], 'scenario_runner')\n",
    "os.environ['LEADERBOARD_ROOT'] = os.path.join(os.environ['WORK_DIR'], 'leaderboard')\n",
    "\n",
    "# Update sys.path\n",
    "sys.path.append(os.path.join(os.environ['CARLA_ROOT'], 'PythonAPI', 'carla'))\n",
    "sys.path.append(os.environ['SCENARIO_RUNNER_ROOT'])\n",
    "sys.path.append(os.environ['LEADERBOARD_ROOT'])\n",
    "from data import CARLA_Data\n",
    "from config import GlobalConfig"
   ]
  },
  {
   "cell_type": "code",
   "execution_count": 2,
   "metadata": {},
   "outputs": [],
   "source": [
    "config=GlobalConfig()"
   ]
  },
  {
   "cell_type": "code",
   "execution_count": 3,
   "metadata": {},
   "outputs": [
    {
     "name": "stdout",
     "output_type": "stream",
     "text": [
      "  0%|          | 0/39 [00:00<?, ?it/s]['snap', 'libx32', 'lib64', 'home', 'dev', 'opt', 'mnt', 'usr', 'cdrom', 'swapfile', 'proc', 'bin', 'boot', 'sbin', 'srv', 'data', 'media', 'run', 'etc', 'root', 'sys', 'lib', 'tmp', 'lost+found', 'lib32', 'var']\n",
      "  3%|▎         | 1/39 [00:00<00:00, 3251.40it/s]\n"
     ]
    },
    {
     "ename": "FileNotFoundError",
     "evalue": "[Errno 2] No such file or directory: 'h'",
     "output_type": "error",
     "traceback": [
      "\u001b[0;31m---------------------------------------------------------------------------\u001b[0m",
      "\u001b[0;31mFileNotFoundError\u001b[0m                         Traceback (most recent call last)",
      "\u001b[0;32m/tmp/ipykernel_30403/2931460842.py\u001b[0m in \u001b[0;36m<module>\u001b[0;34m\u001b[0m\n\u001b[0;32m----> 1\u001b[0;31m \u001b[0mCARLA_Data\u001b[0m\u001b[0;34m(\u001b[0m\u001b[0mroot\u001b[0m\u001b[0;34m=\u001b[0m\u001b[0;34m\"/home/maximilian/Master/train_debugging\"\u001b[0m\u001b[0;34m,\u001b[0m\u001b[0mconfig\u001b[0m\u001b[0;34m=\u001b[0m\u001b[0mconfig\u001b[0m\u001b[0;34m)\u001b[0m\u001b[0;34m\u001b[0m\u001b[0;34m\u001b[0m\u001b[0m\n\u001b[0m",
      "\u001b[0;32m~/Master/carla_garage/team_code/data.py\u001b[0m in \u001b[0;36m__init__\u001b[0;34m(self, root, config, estimate_class_distributions, estimate_sem_distribution, shared_dict, rank)\u001b[0m\n\u001b[1;32m     76\u001b[0m       \u001b[0;31m# list subdirectories in root\u001b[0m\u001b[0;34m\u001b[0m\u001b[0;34m\u001b[0m\u001b[0;34m\u001b[0m\u001b[0m\n\u001b[1;32m     77\u001b[0m       \u001b[0;31m#routes = next(os.walk(sub_root))[1]\u001b[0m\u001b[0;34m\u001b[0m\u001b[0;34m\u001b[0m\u001b[0;34m\u001b[0m\u001b[0m\n\u001b[0;32m---> 78\u001b[0;31m       \u001b[0mroutes\u001b[0m\u001b[0;34m=\u001b[0m\u001b[0mos\u001b[0m\u001b[0;34m.\u001b[0m\u001b[0mlistdir\u001b[0m\u001b[0;34m(\u001b[0m\u001b[0msub_root\u001b[0m\u001b[0;34m)\u001b[0m\u001b[0;34m\u001b[0m\u001b[0;34m\u001b[0m\u001b[0m\n\u001b[0m\u001b[1;32m     79\u001b[0m       \u001b[0mprint\u001b[0m\u001b[0;34m(\u001b[0m\u001b[0mroutes\u001b[0m\u001b[0;34m)\u001b[0m\u001b[0;34m\u001b[0m\u001b[0;34m\u001b[0m\u001b[0m\n\u001b[1;32m     80\u001b[0m       \u001b[0;32mfor\u001b[0m \u001b[0mroute\u001b[0m \u001b[0;32min\u001b[0m \u001b[0mroutes\u001b[0m\u001b[0;34m:\u001b[0m\u001b[0;34m\u001b[0m\u001b[0;34m\u001b[0m\u001b[0m\n",
      "\u001b[0;31mFileNotFoundError\u001b[0m: [Errno 2] No such file or directory: 'h'"
     ]
    }
   ],
   "source": [
    "CARLA_Data(root=\"/home/maximilian/Master/train_debugging\",config=config)"
   ]
  },
  {
   "cell_type": "code",
   "execution_count": null,
   "metadata": {},
   "outputs": [],
   "source": []
  }
 ],
 "metadata": {
  "kernelspec": {
   "display_name": "garage",
   "language": "python",
   "name": "python3"
  },
  "language_info": {
   "codemirror_mode": {
    "name": "ipython",
    "version": 3
   },
   "file_extension": ".py",
   "mimetype": "text/x-python",
   "name": "python",
   "nbconvert_exporter": "python",
   "pygments_lexer": "ipython3",
   "version": "3.7.12"
  }
 },
 "nbformat": 4,
 "nbformat_minor": 2
}
